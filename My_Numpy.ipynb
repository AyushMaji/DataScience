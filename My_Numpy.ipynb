{
  "nbformat": 4,
  "nbformat_minor": 0,
  "metadata": {
    "colab": {
      "name": "My_Numpy.ipynb",
      "provenance": [],
      "collapsed_sections": [
        "lOD03cECmHBY",
        "pmn-DwG25JG6",
        "FA0NRNpr4-Vc",
        "kWV7zk2875VB",
        "bOYb5_8DN9cy",
        "eHnfOSAUVb13",
        "Se-eSspDcFgA",
        "rS3X4WpLg8LV"
      ]
    },
    "kernelspec": {
      "name": "python3",
      "display_name": "Python 3"
    },
    "language_info": {
      "name": "python"
    }
  },
  "cells": [
    {
      "cell_type": "markdown",
      "metadata": {
        "id": "a2299qkXjcvR"
      },
      "source": [
        "\n",
        "\n",
        "> **ShortCut for dataScience Tool like google collab.**\n",
        "\n",
        "1.   *shift + Enter = codeRun and open next cell .*\n",
        "2.   *control + Enter = CodeRun.*\n",
        "\n"
      ]
    },
    {
      "cell_type": "code",
      "metadata": {
        "id": "s0aaCNHti4U_"
      },
      "source": [
        "import numpy as np"
      ],
      "execution_count": null,
      "outputs": []
    },
    {
      "cell_type": "markdown",
      "metadata": {
        "id": "lOD03cECmHBY"
      },
      "source": [
        "# create array"
      ]
    },
    {
      "cell_type": "code",
      "metadata": {
        "id": "no4e-YQFkiUh"
      },
      "source": [
        "array = np.array([1,2,3,4,5,6])\n",
        "print(array)\n",
        "array_2d = np.array( [ [1,2,3,4,5],[5,4,3,2,1],[1,2,3,4,5],[5,4,3,2,1] ] )\n",
        "print(array_2d) "
      ],
      "execution_count": null,
      "outputs": []
    },
    {
      "cell_type": "markdown",
      "metadata": {
        "id": "pmn-DwG25JG6"
      },
      "source": [
        "# Array details"
      ]
    },
    {
      "cell_type": "code",
      "metadata": {
        "id": "ZxuHU8sqwofz"
      },
      "source": [
        "a = array_2d.size   # total presented element \n",
        "b = array_2d.ndim   # array dimention \n",
        "c = array_2d.shape  # (row, colomn) ==> (4,5)\n",
        "d = array_2d.dtype  # array type\n",
        "\n",
        "print([a,b,c,d])"
      ],
      "execution_count": null,
      "outputs": []
    },
    {
      "cell_type": "markdown",
      "metadata": {
        "id": "FA0NRNpr4-Vc"
      },
      "source": [
        "# Zero And One Numpy Array \n"
      ]
    },
    {
      "cell_type": "code",
      "metadata": {
        "id": "KZ0ku4jG5dCz"
      },
      "source": [
        "# np.ones((row,colomn), dtype)\n",
        "\n",
        "array_zero = np.zeros((4,6))\n",
        "array_ones = np.ones((5,2),dtype=int) \n",
        "\n",
        "print(array_ones)"
      ],
      "execution_count": null,
      "outputs": []
    },
    {
      "cell_type": "code",
      "metadata": {
        "id": "M2VTKqbk6G3W"
      },
      "source": [
        "empty_array = np.empty((4,5))\n",
        "empty_array"
      ],
      "execution_count": null,
      "outputs": []
    },
    {
      "cell_type": "markdown",
      "metadata": {
        "id": "kWV7zk2875VB"
      },
      "source": [
        "#  Some important function in numpy \n",
        "\n",
        "\n",
        "\n",
        "\n"
      ]
    },
    {
      "cell_type": "markdown",
      "metadata": {
        "id": "4Fkcz1n6ABxj"
      },
      "source": [
        "*arrange()*"
      ]
    },
    {
      "cell_type": "code",
      "metadata": {
        "id": "ssI8iDeA7MH6"
      },
      "source": [
        "#  np.arange(strat, End, Step )\n",
        "a_arrange = np.arange(1,13,2)\n",
        "print(a_arrange)"
      ],
      "execution_count": null,
      "outputs": []
    },
    {
      "cell_type": "markdown",
      "metadata": {
        "id": "cfomctVJAHvr"
      },
      "source": [
        "linspace()"
      ]
    },
    {
      "cell_type": "code",
      "metadata": {
        "id": "V9AV8fQc9Xbr"
      },
      "source": [
        "# np.linspace(strat, ending , ElementNumber)\n",
        "a_linehape = np.linspace(1,5,10)\n",
        "print(a_linehape)"
      ],
      "execution_count": null,
      "outputs": []
    },
    {
      "cell_type": "markdown",
      "metadata": {
        "id": "DYjOCyfOANkl"
      },
      "source": [
        "reshape()"
      ]
    },
    {
      "cell_type": "code",
      "metadata": {
        "colab": {
          "base_uri": "https://localhost:8080/"
        },
        "id": "CsX9skCA_PEK",
        "outputId": "df37800c-3b8c-4dbc-f09e-0b056a750d1a"
      },
      "source": [
        "# array.reshape()\n",
        "a_value = np.arange(1,13).reshape(3,4) #2d\n",
        "print(a_value)"
      ],
      "execution_count": null,
      "outputs": [
        {
          "output_type": "stream",
          "name": "stdout",
          "text": [
            "[[ 1  2  3  4]\n",
            " [ 5  6  7  8]\n",
            " [ 9 10 11 12]]\n"
          ]
        }
      ]
    },
    {
      "cell_type": "code",
      "metadata": {
        "id": "gkvZX3wWAWgp"
      },
      "source": [
        "ayush = np.arange(1,17).reshape(4,2,2) #3d\n",
        "ayush"
      ],
      "execution_count": null,
      "outputs": []
    },
    {
      "cell_type": "markdown",
      "metadata": {
        "id": "qQ00rBuKESXx"
      },
      "source": [
        "ravel()"
      ]
    },
    {
      "cell_type": "code",
      "metadata": {
        "id": "7V5dkXTKDT_m"
      },
      "source": [
        "ayush.ravel() # convert 1D array"
      ],
      "execution_count": null,
      "outputs": []
    },
    {
      "cell_type": "markdown",
      "metadata": {
        "id": "WLKjvh5PGmTz"
      },
      "source": [
        "transpose()"
      ]
    },
    {
      "cell_type": "code",
      "metadata": {
        "id": "vj68RdszFdTj"
      },
      "source": [
        "a_value.transpose() # row covert into colomn && colomn convert into row"
      ],
      "execution_count": null,
      "outputs": []
    },
    {
      "cell_type": "markdown",
      "metadata": {
        "id": "bOYb5_8DN9cy"
      },
      "source": [
        "#  Math Calculation Numpy"
      ]
    },
    {
      "cell_type": "code",
      "metadata": {
        "id": "W0iGLY9yHSki"
      },
      "source": [
        " arr1 = np.arange(1,13).reshape(3,4)\n",
        " arr2 =  np.arange(12,24).reshape(3,4)\n",
        " \n",
        " arr1\n",
        " arr2\n"
      ],
      "execution_count": null,
      "outputs": []
    },
    {
      "cell_type": "code",
      "metadata": {
        "id": "D8dz4QRgOy8-"
      },
      "source": [
        "arr1 + arr2"
      ],
      "execution_count": null,
      "outputs": []
    },
    {
      "cell_type": "code",
      "metadata": {
        "id": "g5dSzzUsRFjE"
      },
      "source": [
        "arr1 - arr2"
      ],
      "execution_count": null,
      "outputs": []
    },
    {
      "cell_type": "code",
      "metadata": {
        "id": "i0qZt94XSI6_"
      },
      "source": [
        "arr1 * arr2"
      ],
      "execution_count": null,
      "outputs": []
    },
    {
      "cell_type": "code",
      "metadata": {
        "id": "FhDYxO6jSNkH"
      },
      "source": [
        "arr1 / arr2"
      ],
      "execution_count": null,
      "outputs": []
    },
    {
      "cell_type": "code",
      "metadata": {
        "id": "O1G0hAyCS9mH"
      },
      "source": [
        " arr1 = np.arange(1,13).reshape(3,4)\n",
        " arr2 =  np.arange(12,24).reshape(4,3)\n",
        " arr1@arr2 # cartician "
      ],
      "execution_count": null,
      "outputs": []
    },
    {
      "cell_type": "markdown",
      "metadata": {
        "id": "eHnfOSAUVb13"
      },
      "source": [
        "# Find Min & Max value"
      ]
    },
    {
      "cell_type": "code",
      "metadata": {
        "colab": {
          "base_uri": "https://localhost:8080/"
        },
        "id": "vIGCGBcNVtAs",
        "outputId": "fecc4ca4-d38b-4eb7-a549-ea85aa30c237"
      },
      "source": [
        "arr1 = np.array([[ 10,26,30,4],[ 5,90,70,4],[ 9,5,6,80]])\n",
        "print(arr1)"
      ],
      "execution_count": null,
      "outputs": [
        {
          "output_type": "stream",
          "name": "stdout",
          "text": [
            "[[10 26 30  4]\n",
            " [ 5 90 70  4]\n",
            " [ 9  5  6 80]]\n"
          ]
        }
      ]
    },
    {
      "cell_type": "code",
      "metadata": {
        "id": "JWR1PvC7USzV"
      },
      "source": [
        "arr1.max() # max Number in full array\n",
        "arr1.min() # min Number in full array"
      ],
      "execution_count": null,
      "outputs": []
    },
    {
      "cell_type": "code",
      "metadata": {
        "id": "wPtCRrRKUjg2"
      },
      "source": [
        "arr1.argmax() # position of min Number in full matrix \n",
        "arr1.argmin() # position of max Number in full matrix "
      ],
      "execution_count": null,
      "outputs": []
    },
    {
      "cell_type": "code",
      "metadata": {
        "id": "n4EwPkg9Usnj"
      },
      "source": [
        "arr1.max(axis=0) # max number of every coloumn in matrix"
      ],
      "execution_count": null,
      "outputs": []
    },
    {
      "cell_type": "code",
      "metadata": {
        "id": "LP4GKNjSWcCw"
      },
      "source": [
        "arr1.max(axis=1) # max number of every row in matrix"
      ],
      "execution_count": null,
      "outputs": []
    },
    {
      "cell_type": "code",
      "metadata": {
        "id": "cWbOYTWUWnOJ"
      },
      "source": [
        "arr1.sum() # sum all matrix"
      ],
      "execution_count": null,
      "outputs": []
    },
    {
      "cell_type": "code",
      "metadata": {
        "id": "TogTIZS_W7xj"
      },
      "source": [
        "arr1.sum(axis=0) # sum column matrix"
      ],
      "execution_count": null,
      "outputs": []
    },
    {
      "cell_type": "code",
      "metadata": {
        "id": "vI6wJpPJXM23"
      },
      "source": [
        "arr1.sum(axis=1) # sum row matrix"
      ],
      "execution_count": null,
      "outputs": []
    },
    {
      "cell_type": "code",
      "metadata": {
        "id": "HOKQz2OkXU70"
      },
      "source": [
        "arr1.mean() # avarage in full matrix"
      ],
      "execution_count": null,
      "outputs": []
    },
    {
      "cell_type": "code",
      "metadata": {
        "id": "4EG_eEIAXfJU"
      },
      "source": [
        "arr1.std() "
      ],
      "execution_count": null,
      "outputs": []
    },
    {
      "cell_type": "code",
      "metadata": {
        "id": "jYRgtHIvZevC"
      },
      "source": [
        "np.exp(arr1) # exponent for every element"
      ],
      "execution_count": null,
      "outputs": []
    },
    {
      "cell_type": "markdown",
      "metadata": {
        "id": "Se-eSspDcFgA"
      },
      "source": [
        "# Concatinate & Split"
      ]
    },
    {
      "cell_type": "code",
      "metadata": {
        "id": "C_7hW_PFcEtW"
      },
      "source": [
        "array1 = np.arange(1,17).reshape(4,4)\n",
        "array2 = np.arange(17,33).reshape(4,4)\n",
        "np.concatenate((array1,array2))"
      ],
      "execution_count": null,
      "outputs": []
    },
    {
      "cell_type": "code",
      "metadata": {
        "id": "vEsFw2MUcTFN"
      },
      "source": [
        " np.concatenate((array1,array2),axis=1) # row"
      ],
      "execution_count": null,
      "outputs": []
    },
    {
      "cell_type": "code",
      "metadata": {
        "id": "yjIJpd7RdPAw"
      },
      "source": [
        " np.concatenate((array1,array2),axis=0) # column"
      ],
      "execution_count": null,
      "outputs": []
    },
    {
      "cell_type": "code",
      "metadata": {
        "id": "leijQS-2dTXk"
      },
      "source": [
        "np.split(array1,2) # list ar modha duto array acha "
      ],
      "execution_count": null,
      "outputs": []
    },
    {
      "cell_type": "code",
      "metadata": {
        "id": "Kowjx19KeY6o"
      },
      "source": [
        "np.split(array1,2, axis=1)"
      ],
      "execution_count": null,
      "outputs": []
    },
    {
      "cell_type": "code",
      "metadata": {
        "id": "a-0F1SBhfO4s"
      },
      "source": [
        "np.split(array1,2, axis=0)"
      ],
      "execution_count": null,
      "outputs": []
    },
    {
      "cell_type": "markdown",
      "metadata": {
        "id": "rS3X4WpLg8LV"
      },
      "source": [
        "# Random matrix"
      ]
    },
    {
      "cell_type": "code",
      "metadata": {
        "id": "06f8j2Xag6bb"
      },
      "source": [
        "import random"
      ],
      "execution_count": null,
      "outputs": []
    },
    {
      "cell_type": "code",
      "metadata": {
        "id": "OxxLmIP-hIlb"
      },
      "source": [
        "np.random.random((2,3))"
      ],
      "execution_count": null,
      "outputs": []
    },
    {
      "cell_type": "code",
      "metadata": {
        "id": "8NIMN3Sii6rv"
      },
      "source": [
        "np.random.randint(1,29,(2,3)) # (range, shape)"
      ],
      "execution_count": null,
      "outputs": []
    }
  ]
}